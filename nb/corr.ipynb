{
 "cells": [
  {
   "cell_type": "code",
   "execution_count": 49,
   "id": "69384b5e-b2d6-4eb0-ada4-005ca2cfadeb",
   "metadata": {},
   "outputs": [],
   "source": [
    "import numpy as np\n",
    "import k3d\n",
    "import os"
   ]
  },
  {
   "cell_type": "code",
   "execution_count": 2,
   "id": "b31c6738-2a4f-4547-8def-e6eda40a263e",
   "metadata": {},
   "outputs": [],
   "source": [
    "inch = 25.4 # mm"
   ]
  },
  {
   "cell_type": "code",
   "execution_count": 3,
   "id": "4eb7f4ff-5358-4c9f-a8a1-57c00fd276bf",
   "metadata": {},
   "outputs": [],
   "source": [
    "class Point:\n",
    "    def __init__(self, x, y, z=0):\n",
    "        self.data = [float(x) * inch, float(y) * inch, float(z) * inch]\n",
    "\n",
    "    def __getitem__(self, idx):\n",
    "        return self.data[idx]\n",
    "\n",
    "    def __array__(self):\n",
    "        return np.array(self.data)\n",
    "\n",
    "    def __repr__(self):\n",
    "        return f\"{self.data}\""
   ]
  },
  {
   "cell_type": "code",
   "execution_count": 4,
   "id": "47bc05bb-b92a-4cdc-b9bf-ea303c142d09",
   "metadata": {},
   "outputs": [
    {
     "data": {
      "text/plain": [
       "array([25.4, 50.8, 76.2])"
      ]
     },
     "execution_count": 4,
     "metadata": {},
     "output_type": "execute_result"
    }
   ],
   "source": [
    "np.array(Point(1,2,3))"
   ]
  },
  {
   "cell_type": "code",
   "execution_count": 5,
   "id": "cfd764fe-5e14-4e1c-982d-ac7a9935ccfd",
   "metadata": {},
   "outputs": [],
   "source": [
    "class Line:\n",
    "    def __init__(self, a, *b, **arg):\n",
    "        self.data = [a] + [i for i in b]\n",
    "        try:\n",
    "            self.closed = arg[\"closed\"]\n",
    "        except KeyError:\n",
    "            self.closed = True\n",
    "\n",
    "    def __getitem__(self, idx):\n",
    "        return self.data[idx]\n",
    "\n",
    "    def __iter__(self):\n",
    "        if self.closed:\n",
    "            return iter(self.data + [self.data[0]])\n",
    "        else:\n",
    "            return iter(self.data)\n",
    "\n",
    "    def __array__(self):\n",
    "        return np.array([np.array(i) for i in self])\n",
    "\n",
    "    def __repr__(self):\n",
    "        return f\"{list(self)} closed:{self.closed}\""
   ]
  },
  {
   "cell_type": "code",
   "execution_count": 6,
   "id": "ffec10ac-0d47-472f-a5a0-82cb51136075",
   "metadata": {},
   "outputs": [
    {
     "data": {
      "text/plain": [
       "array([[ 0. ,  0. ,  0. ],\n",
       "       [50.8,  0. ,  0. ],\n",
       "       [50.8, 25.4,  0. ],\n",
       "       [ 0. , 25.4,  0. ],\n",
       "       [ 0. ,  0. ,  0. ]])"
      ]
     },
     "execution_count": 6,
     "metadata": {},
     "output_type": "execute_result"
    }
   ],
   "source": [
    "board = Line(Point(0,0),Point(2,0),Point(2,1),Point(0,1),closed=True); np.array(board)"
   ]
  },
  {
   "cell_type": "code",
   "execution_count": 7,
   "id": "68dc1f1a-f646-4221-98cf-55a3fdc72037",
   "metadata": {},
   "outputs": [
    {
     "data": {
      "text/plain": [
       "[[0.0, 0.0, -1.0], [50.8, 0.0, -3.0], [50.8, 25.4, 1.0], [0.0, 25.4, 3.0]]"
      ]
     },
     "execution_count": 7,
     "metadata": {},
     "output_type": "execute_result"
    }
   ],
   "source": [
    "scan = [[a[0], a[1], a[2] + b] for a, b in zip(board, [-1, -3, +1, +3])]\n",
    "scan"
   ]
  },
  {
   "cell_type": "markdown",
   "id": "74106475-9a27-4a51-aaba-a751d25d9f65",
   "metadata": {},
   "source": [
    "# corr"
   ]
  },
  {
   "cell_type": "code",
   "execution_count": 8,
   "id": "d124a4e2-f408-4601-aa99-ef9d68527971",
   "metadata": {},
   "outputs": [],
   "source": [
    "def plot(grid):\n",
    "    p = k3d.plot(height=300,menu_visibility=False,background_color=0x222222,grid_color=0x224444,camera_mode='orbit')\n",
    "    \n",
    "    p += k3d.line(np.array(board),color=0x0000FF,width=.3)\n",
    "    p += k3d.points(scan,color=0xAA0000)\n",
    "    p += k3d.points(grid,color=0x00AA00)\n",
    "    \n",
    "    p.display()"
   ]
  },
  {
   "cell_type": "code",
   "execution_count": 9,
   "id": "ef3700b0-ec33-40c9-8ec6-7f8ea9ea51b4",
   "metadata": {},
   "outputs": [],
   "source": [
    "x0 = board[0][0] ; y0 = board[0][1]\n",
    "x1 = board[2][0] ; y1 = board[2][1]"
   ]
  },
  {
   "cell_type": "code",
   "execution_count": 64,
   "id": "3f6b35a4-ee76-4196-a331-64bcf4b31750",
   "metadata": {},
   "outputs": [
    {
     "name": "stdout",
     "output_type": "stream",
     "text": [
      "\n",
      "(%i1) batch(\"../tmp/max.max\")\n",
      "\n",
      "read and interpret /home/dponyatov/gridcorr/nb/../tmp/max.max\n",
      "(%i2) b:linsolve([-1.0 = b1+b2*0.0+b3*0.0+b4*0.0*0.0,\n",
      "                  -3.0 = b1+b2*50.8+b3*0.0+b4*50.8*0.0,\n",
      "                  1.0 = b1+b2*50.8+b3*25.4+b4*50.8*25.4,\n",
      "                  3.0 = b1+b2*0.0+b3*25.4+b4*0.0*25.4],[b1,b2,b3,b4])\n",
      "\n",
      "rat: replaced -1.0 by -1/1 = -1.0\n",
      "\n",
      "rat: replaced -3.0 by -3/1 = -3.0\n",
      "\n",
      "rat: replaced -50.8 by -254/5 = -50.8\n",
      "\n",
      "rat: replaced 1.0 by 1/1 = 1.0\n",
      "\n",
      "rat: replaced -50.8 by -254/5 = -50.8\n",
      "\n",
      "rat: replaced -25.4 by -127/5 = -25.4\n",
      "\n",
      "rat: replaced -1290.32 by -32258/25 = -1290.32\n",
      "\n",
      "rat: replaced 3.0 by 3/1 = 3.0\n",
      "\n",
      "rat: replaced -25.4 by -127/5 = -25.4\n",
      "                                      5        20\n",
      "(%o2)              [b1 = - 1, b2 = - ---, b3 = ---, b4 = 0]\n",
      "                                     127       127\n",
      "(%i3) printf(true,\"~%~%b1=~,8f ; b2=~,8f ; b3=~,8f ; b4=~,8f~%~%~%\",rhs(b[1]),\n",
      "             rhs(b[2]),rhs(b[3]),rhs(b[4]))\n",
      "\n",
      "\n",
      "b1=-1.00000000 ; b2=-0.03937008 ; b3=0.15748031 ; b4=0.00000000\n",
      "\n",
      "\n",
      "(%o3)                                false\n",
      "(%o4)             /home/dponyatov/gridcorr/nb/../tmp/max.max\n"
     ]
    },
    {
     "data": {
      "text/plain": [
       "0"
      ]
     },
     "execution_count": 64,
     "metadata": {},
     "output_type": "execute_result"
    }
   ],
   "source": [
    "# https://matandlife.blogspot.com/2015/03/maxima.html\n",
    "with open(\"../tmp/max.max\", \"w\") as eq:\n",
    "    # print(\"write_data(\")\n",
    "    print(\"b:linsolve([\",file=eq)\n",
    "    for i in range(len(scan)):\n",
    "        x, y, z = scan[i]\n",
    "        comma = \" ,\" if i + 1 < len(scan) else \"\"\n",
    "        print(f\"    {z} = b1 + b2 * {x} + b3 * {y} + b4 * {x} * {y}{comma}\",file=eq)\n",
    "    print(\"],[b1,b2,b3,b4]);\",file=eq)\n",
    "    print('printf(true,\"~%~%b1=~,8f ; b2=~,8f ; b3=~,8f ; b4=~,8f~%~%~%\",rhs(b[1]),rhs(b[2]),rhs(b[3]),rhs(b[4]));',file=eq)\n",
    "    # print('b[1]; b[2]; b[3]; b[4];', file=eq)\n",
    "os.system('maxima -q -b ../tmp/max.max')"
   ]
  },
  {
   "cell_type": "code",
   "execution_count": 65,
   "id": "2941f016-9769-4140-9181-49580d23b3dc",
   "metadata": {},
   "outputs": [],
   "source": [
    "b1=-1.00000000 ; b2=-0.03937008 ; b3=0.15748031 ; b4=0.00000000"
   ]
  },
  {
   "cell_type": "code",
   "execution_count": 66,
   "id": "bdbe6600-6325-4f6a-a10a-bd0dcbd771f6",
   "metadata": {},
   "outputs": [
    {
     "data": {
      "application/vnd.jupyter.widget-view+json": {
       "model_id": "64ae586783704016ad46e9590cc45009",
       "version_major": 2,
       "version_minor": 0
      },
      "text/plain": [
       "Output()"
      ]
     },
     "metadata": {},
     "output_type": "display_data"
    }
   ],
   "source": [
    "grid = []\n",
    "for x in np.linspace(x0, x1, 11):\n",
    "    for y in np.linspace(y0, y1, 11):\n",
    "        z = b1 + b2 * x + b3 * y + b4 * x * y\n",
    "        grid += [[x, y, z]]\n",
    "plot(grid)"
   ]
  },
  {
   "cell_type": "code",
   "execution_count": 69,
   "id": "e9a7192d-0936-471e-8cf0-3ac487d52f54",
   "metadata": {},
   "outputs": [
    {
     "data": {
      "application/vnd.jupyter.widget-view+json": {
       "model_id": "e3ae57d440934b1188d0b0ab9c07a8a1",
       "version_major": 2,
       "version_minor": 0
      },
      "text/plain": [
       "Output()"
      ]
     },
     "metadata": {},
     "output_type": "display_data"
    }
   ],
   "source": [
    "grid = []\n",
    "for i in board:\n",
    "    x,y,z = i\n",
    "    z += 1 + b1 + b2 * x + b3 * y + b4 * x * y\n",
    "    grid += [[x, y, z]]\n",
    "plot(grid)"
   ]
  },
  {
   "cell_type": "code",
   "execution_count": null,
   "id": "6fbe14dd-4773-4922-88f1-9236a5a71da0",
   "metadata": {},
   "outputs": [],
   "source": []
  }
 ],
 "metadata": {
  "kernelspec": {
   "display_name": "Python 3 (ipykernel)",
   "language": "python",
   "name": "python3"
  },
  "language_info": {
   "codemirror_mode": {
    "name": "ipython",
    "version": 3
   },
   "file_extension": ".py",
   "mimetype": "text/x-python",
   "name": "python",
   "nbconvert_exporter": "python",
   "pygments_lexer": "ipython3",
   "version": "3.11.2"
  }
 },
 "nbformat": 4,
 "nbformat_minor": 5
}
