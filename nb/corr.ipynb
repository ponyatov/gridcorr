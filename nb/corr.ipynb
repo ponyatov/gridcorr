{
 "cells": [
  {
   "cell_type": "code",
   "execution_count": 1,
   "id": "69384b5e-b2d6-4eb0-ada4-005ca2cfadeb",
   "metadata": {},
   "outputs": [],
   "source": [
    "import numpy as np"
   ]
  },
  {
   "cell_type": "code",
   "execution_count": 2,
   "id": "b31c6738-2a4f-4547-8def-e6eda40a263e",
   "metadata": {},
   "outputs": [],
   "source": [
    "inch = 25.4 # mm"
   ]
  },
  {
   "cell_type": "code",
   "execution_count": 67,
   "id": "4eb7f4ff-5358-4c9f-a8a1-57c00fd276bf",
   "metadata": {},
   "outputs": [],
   "source": [
    "class Point:\n",
    "    def __init__(self, x, y, z=0):\n",
    "        self.data = [float(x) * inch, float(y) * inch, float(z) * inch]\n",
    "\n",
    "    def __getitem__(self, idx):\n",
    "        return self.data[idx]\n",
    "\n",
    "    def __array__(self):\n",
    "        return np.array(self.data)\n",
    "\n",
    "    def __repr__(self):\n",
    "        return f\"{self.data}\""
   ]
  },
  {
   "cell_type": "code",
   "execution_count": 68,
   "id": "47bc05bb-b92a-4cdc-b9bf-ea303c142d09",
   "metadata": {},
   "outputs": [
    {
     "data": {
      "text/plain": [
       "array([25.4, 50.8, 76.2])"
      ]
     },
     "execution_count": 68,
     "metadata": {},
     "output_type": "execute_result"
    }
   ],
   "source": [
    "np.array(Point(1,2,3))"
   ]
  },
  {
   "cell_type": "code",
   "execution_count": 81,
   "id": "cfd764fe-5e14-4e1c-982d-ac7a9935ccfd",
   "metadata": {},
   "outputs": [],
   "source": [
    "class Line:\n",
    "    def __init__(self, a, *b, **arg):\n",
    "        self.data = [a] + [i for i in b]\n",
    "        try:\n",
    "            self.closed = arg[\"closed\"]\n",
    "        except KeyError:\n",
    "            self.closed = True\n",
    "\n",
    "    def __getitem__(self, idx):\n",
    "        return self.data[idx]\n",
    "\n",
    "    def __iter__(self):\n",
    "        if self.closed:\n",
    "            return iter(self.data + [self.data[0]])\n",
    "        else:\n",
    "            return iter(self.data)\n",
    "\n",
    "    def __array__(self):\n",
    "        return np.array([np.array(i) for i in self])\n",
    "\n",
    "    def __repr__(self):\n",
    "        return f\"{list(self)} closed:{self.closed}\""
   ]
  },
  {
   "cell_type": "code",
   "execution_count": 82,
   "id": "ffec10ac-0d47-472f-a5a0-82cb51136075",
   "metadata": {},
   "outputs": [
    {
     "data": {
      "text/plain": [
       "array([[ 0. ,  0. ,  0. ],\n",
       "       [50.8,  0. ,  0. ],\n",
       "       [50.8, 25.4,  0. ],\n",
       "       [ 0. , 25.4,  0. ],\n",
       "       [ 0. ,  0. ,  0. ]])"
      ]
     },
     "execution_count": 82,
     "metadata": {},
     "output_type": "execute_result"
    }
   ],
   "source": [
    "board = Line(Point(0,0),Point(2,0),Point(2,1),Point(0,1),closed=True); np.array(board)"
   ]
  },
  {
   "cell_type": "code",
   "execution_count": 83,
   "id": "68dc1f1a-f646-4221-98cf-55a3fdc72037",
   "metadata": {},
   "outputs": [
    {
     "data": {
      "text/plain": [
       "[[0.0, 0.0, -1.0], [50.8, 0.0, -3.0], [50.8, 25.4, 1.0], [0.0, 25.4, 3.0]]"
      ]
     },
     "execution_count": 83,
     "metadata": {},
     "output_type": "execute_result"
    }
   ],
   "source": [
    "scan = [[a[0], a[1], a[2] + b] for a, b in zip(board, [-1, -3, +1, +3])]\n",
    "scan"
   ]
  },
  {
   "cell_type": "markdown",
   "id": "74106475-9a27-4a51-aaba-a751d25d9f65",
   "metadata": {},
   "source": [
    "# corr"
   ]
  },
  {
   "cell_type": "code",
   "execution_count": 101,
   "id": "d854bfa5-29e0-4553-bb10-2c4d22d84bd3",
   "metadata": {},
   "outputs": [],
   "source": [
    "x0 = board[0][0] ; y0 = board[0][1]\n",
    "x1 = board[2][0] ; y1 = board[2][1]\n",
    "grid = []\n",
    "for x in np.linspace(x0, x1, 11):\n",
    "    for y in np.linspace(y0, y1, 11):\n",
    "        grid += [[x,y,0]]"
   ]
  },
  {
   "cell_type": "code",
   "execution_count": null,
   "id": "7caba1f3-e38a-4a2b-9b62-6224d8de4f63",
   "metadata": {},
   "outputs": [],
   "source": []
  },
  {
   "cell_type": "code",
   "execution_count": null,
   "id": "0807db25-b27a-4cc5-abe0-c012edda8751",
   "metadata": {},
   "outputs": [],
   "source": []
  },
  {
   "cell_type": "markdown",
   "id": "ab2ff40d-37bf-4311-a3e6-fb8665bec1ff",
   "metadata": {},
   "source": [
    "# plot"
   ]
  },
  {
   "cell_type": "code",
   "execution_count": 74,
   "id": "2ba78b62-163c-42df-ac98-fef695694bb5",
   "metadata": {},
   "outputs": [],
   "source": [
    "import k3d"
   ]
  },
  {
   "cell_type": "code",
   "execution_count": 102,
   "id": "8964a2d4-7752-4e83-9904-5135515dd9dd",
   "metadata": {},
   "outputs": [],
   "source": [
    "plot = k3d.plot(height=300,menu_visibility=False,background_color=0x222222,grid_color=0x224444,camera_mode='orbit')"
   ]
  },
  {
   "cell_type": "code",
   "execution_count": 103,
   "id": "0a7df0d5-b6e9-4701-b6dc-add7cc4037bf",
   "metadata": {},
   "outputs": [],
   "source": [
    "plot += k3d.line(np.array(board),color=0x0000FF,width=.3)\n",
    "plot += k3d.points(scan,color=0xAA0000)\n",
    "plot += k3d.points(grid,color=0x00AA00)"
   ]
  },
  {
   "cell_type": "code",
   "execution_count": 104,
   "id": "8ed6b758-a60a-4759-8c9b-0bb6eb2732a0",
   "metadata": {},
   "outputs": [
    {
     "data": {
      "application/vnd.jupyter.widget-view+json": {
       "model_id": "2861299466ef4a469e8dcd8e5cfdc640",
       "version_major": 2,
       "version_minor": 0
      },
      "text/plain": [
       "Output()"
      ]
     },
     "metadata": {},
     "output_type": "display_data"
    }
   ],
   "source": [
    "plot.display()"
   ]
  },
  {
   "cell_type": "code",
   "execution_count": null,
   "id": "ae2bfc45-1c05-4d72-973f-10ef17adc35a",
   "metadata": {},
   "outputs": [],
   "source": []
  }
 ],
 "metadata": {
  "kernelspec": {
   "display_name": "Python 3 (ipykernel)",
   "language": "python",
   "name": "python3"
  },
  "language_info": {
   "codemirror_mode": {
    "name": "ipython",
    "version": 3
   },
   "file_extension": ".py",
   "mimetype": "text/x-python",
   "name": "python",
   "nbconvert_exporter": "python",
   "pygments_lexer": "ipython3",
   "version": "3.11.2"
  }
 },
 "nbformat": 4,
 "nbformat_minor": 5
}
