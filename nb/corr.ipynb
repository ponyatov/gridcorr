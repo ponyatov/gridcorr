{
 "cells": [
  {
   "cell_type": "code",
   "execution_count": 1,
   "id": "69384b5e-b2d6-4eb0-ada4-005ca2cfadeb",
   "metadata": {},
   "outputs": [],
   "source": [
    "import numpy as np\n",
    "import k3d"
   ]
  },
  {
   "cell_type": "code",
   "execution_count": 2,
   "id": "b31c6738-2a4f-4547-8def-e6eda40a263e",
   "metadata": {},
   "outputs": [],
   "source": [
    "inch = 25.4 # mm"
   ]
  },
  {
   "cell_type": "code",
   "execution_count": 3,
   "id": "4eb7f4ff-5358-4c9f-a8a1-57c00fd276bf",
   "metadata": {},
   "outputs": [],
   "source": [
    "class Point:\n",
    "    def __init__(self, x, y, z=0):\n",
    "        self.data = [float(x) * inch, float(y) * inch, float(z) * inch]\n",
    "\n",
    "    def __getitem__(self, idx):\n",
    "        return self.data[idx]\n",
    "\n",
    "    def __array__(self):\n",
    "        return np.array(self.data)\n",
    "\n",
    "    def __repr__(self):\n",
    "        return f\"{self.data}\""
   ]
  },
  {
   "cell_type": "code",
   "execution_count": 4,
   "id": "47bc05bb-b92a-4cdc-b9bf-ea303c142d09",
   "metadata": {},
   "outputs": [
    {
     "data": {
      "text/plain": [
       "array([25.4, 50.8, 76.2])"
      ]
     },
     "execution_count": 4,
     "metadata": {},
     "output_type": "execute_result"
    }
   ],
   "source": [
    "np.array(Point(1,2,3))"
   ]
  },
  {
   "cell_type": "code",
   "execution_count": 5,
   "id": "cfd764fe-5e14-4e1c-982d-ac7a9935ccfd",
   "metadata": {},
   "outputs": [],
   "source": [
    "class Line:\n",
    "    def __init__(self, a, *b, **arg):\n",
    "        self.data = [a] + [i for i in b]\n",
    "        try:\n",
    "            self.closed = arg[\"closed\"]\n",
    "        except KeyError:\n",
    "            self.closed = True\n",
    "\n",
    "    def __getitem__(self, idx):\n",
    "        return self.data[idx]\n",
    "\n",
    "    def __iter__(self):\n",
    "        if self.closed:\n",
    "            return iter(self.data + [self.data[0]])\n",
    "        else:\n",
    "            return iter(self.data)\n",
    "\n",
    "    def __array__(self):\n",
    "        return np.array([np.array(i) for i in self])\n",
    "\n",
    "    def __repr__(self):\n",
    "        return f\"{list(self)} closed:{self.closed}\""
   ]
  },
  {
   "cell_type": "code",
   "execution_count": 6,
   "id": "ffec10ac-0d47-472f-a5a0-82cb51136075",
   "metadata": {},
   "outputs": [
    {
     "data": {
      "text/plain": [
       "array([[ 0. ,  0. ,  0. ],\n",
       "       [50.8,  0. ,  0. ],\n",
       "       [50.8, 25.4,  0. ],\n",
       "       [ 0. , 25.4,  0. ],\n",
       "       [ 0. ,  0. ,  0. ]])"
      ]
     },
     "execution_count": 6,
     "metadata": {},
     "output_type": "execute_result"
    }
   ],
   "source": [
    "board = Line(Point(0,0),Point(2,0),Point(2,1),Point(0,1),closed=True); np.array(board)"
   ]
  },
  {
   "cell_type": "code",
   "execution_count": 7,
   "id": "68dc1f1a-f646-4221-98cf-55a3fdc72037",
   "metadata": {},
   "outputs": [
    {
     "data": {
      "text/plain": [
       "[[0.0, 0.0, -1.0], [50.8, 0.0, -3.0], [50.8, 25.4, 1.0], [0.0, 25.4, 3.0]]"
      ]
     },
     "execution_count": 7,
     "metadata": {},
     "output_type": "execute_result"
    }
   ],
   "source": [
    "scan = [[a[0], a[1], a[2] + b] for a, b in zip(board, [-1, -3, +1, +3])]\n",
    "scan"
   ]
  },
  {
   "cell_type": "markdown",
   "id": "74106475-9a27-4a51-aaba-a751d25d9f65",
   "metadata": {},
   "source": [
    "# corr"
   ]
  },
  {
   "cell_type": "code",
   "execution_count": 8,
   "id": "d124a4e2-f408-4601-aa99-ef9d68527971",
   "metadata": {},
   "outputs": [],
   "source": [
    "def plot(grid):\n",
    "    p = k3d.plot(height=300,menu_visibility=False,background_color=0x222222,grid_color=0x224444,camera_mode='orbit')\n",
    "    \n",
    "    p += k3d.line(np.array(board),color=0x0000FF,width=.3)\n",
    "    p += k3d.points(scan,color=0xAA0000)\n",
    "    p += k3d.points(grid,color=0x00AA00)\n",
    "    \n",
    "    p.display()"
   ]
  },
  {
   "cell_type": "code",
   "execution_count": 9,
   "id": "ef3700b0-ec33-40c9-8ec6-7f8ea9ea51b4",
   "metadata": {},
   "outputs": [],
   "source": [
    "x0 = board[0][0] ; y0 = board[0][1]\n",
    "x1 = board[2][0] ; y1 = board[2][1]"
   ]
  },
  {
   "cell_type": "code",
   "execution_count": 37,
   "id": "3f6b35a4-ee76-4196-a331-64bcf4b31750",
   "metadata": {},
   "outputs": [
    {
     "name": "stdout",
     "output_type": "stream",
     "text": [
      "linsolve([\n",
      "    -1.0 = b1 + b2 * 0.0 + b3 * 0.0 + b4 * 0.0 * 0.0 ,\n",
      "    -3.0 = b1 + b2 * 50.8 + b3 * 0.0 + b4 * 50.8 * 0.0 ,\n",
      "    1.0 = b1 + b2 * 50.8 + b3 * 25.4 + b4 * 50.8 * 25.4 ,\n",
      "    3.0 = b1 + b2 * 0.0 + b3 * 25.4 + b4 * 0.0 * 25.4\n",
      "],[b1,b2,b3,b4]);\n",
      "\n"
     ]
    }
   ],
   "source": [
    "# https://matandlife.blogspot.com/2015/03/maxima.html\n",
    "eq = 'linsolve([\\n'\n",
    "for i in range(len(scan)):\n",
    "    x, y, z = scan[i]\n",
    "    comma = \" ,\" if i + 1 < len(scan) else \"\"\n",
    "    eq += f\"    {z} = b1 + b2 * {x} + b3 * {y} + b4 * {x} * {y}{comma}\\n\"\n",
    "eq += '],[b1,b2,b3,b4]);\\n'\n",
    "print(eq)"
   ]
  },
  {
   "cell_type": "code",
   "execution_count": 38,
   "id": "2941f016-9769-4140-9181-49580d23b3dc",
   "metadata": {},
   "outputs": [],
   "source": [
    "b1 = -1.0\n",
    "b2 = -5./127\n",
    "b3 = 20./127\n",
    "b4 = 0"
   ]
  },
  {
   "cell_type": "code",
   "execution_count": 39,
   "id": "bdbe6600-6325-4f6a-a10a-bd0dcbd771f6",
   "metadata": {},
   "outputs": [
    {
     "data": {
      "application/vnd.jupyter.widget-view+json": {
       "model_id": "d7becc669a8c42a185fe69d88cf7b488",
       "version_major": 2,
       "version_minor": 0
      },
      "text/plain": [
       "Output()"
      ]
     },
     "metadata": {},
     "output_type": "display_data"
    }
   ],
   "source": [
    "grid = []\n",
    "for x in np.linspace(x0, x1, 11):\n",
    "    for y in np.linspace(y0, y1, 11):\n",
    "        z = b1 + b2 * x + b3 * y + b4 * x * y\n",
    "        grid += [[x, y, z]]\n",
    "plot(grid)"
   ]
  },
  {
   "cell_type": "code",
   "execution_count": null,
   "id": "e9a7192d-0936-471e-8cf0-3ac487d52f54",
   "metadata": {},
   "outputs": [],
   "source": []
  }
 ],
 "metadata": {
  "kernelspec": {
   "display_name": "Python 3 (ipykernel)",
   "language": "python",
   "name": "python3"
  },
  "language_info": {
   "codemirror_mode": {
    "name": "ipython",
    "version": 3
   },
   "file_extension": ".py",
   "mimetype": "text/x-python",
   "name": "python",
   "nbconvert_exporter": "python",
   "pygments_lexer": "ipython3",
   "version": "3.11.2"
  }
 },
 "nbformat": 4,
 "nbformat_minor": 5
}
