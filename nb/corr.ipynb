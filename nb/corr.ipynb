{
 "cells": [
  {
   "cell_type": "code",
   "execution_count": 2,
   "id": "69384b5e-b2d6-4eb0-ada4-005ca2cfadeb",
   "metadata": {},
   "outputs": [],
   "source": [
    "import numpy as np"
   ]
  },
  {
   "cell_type": "code",
   "execution_count": 5,
   "id": "b31c6738-2a4f-4547-8def-e6eda40a263e",
   "metadata": {},
   "outputs": [],
   "source": [
    "inch = 25.4 # mm"
   ]
  },
  {
   "cell_type": "code",
   "execution_count": 8,
   "id": "4eb7f4ff-5358-4c9f-a8a1-57c00fd276bf",
   "metadata": {},
   "outputs": [],
   "source": [
    "class Point:\n",
    "    def __init__(self, x, y, z=0):\n",
    "        self.data = [float(x) * inch, float(y) * inch, float(z) * inch]\n",
    "\n",
    "    def __repr__(self):\n",
    "        return f\"{self.data}\""
   ]
  },
  {
   "cell_type": "code",
   "execution_count": 9,
   "id": "47bc05bb-b92a-4cdc-b9bf-ea303c142d09",
   "metadata": {},
   "outputs": [
    {
     "name": "stdout",
     "output_type": "stream",
     "text": [
      "[25.4, 50.8, 76.19999999999999]\n"
     ]
    }
   ],
   "source": [
    "print(Point(1,2,3))"
   ]
  },
  {
   "cell_type": "code",
   "execution_count": 31,
   "id": "cfd764fe-5e14-4e1c-982d-ac7a9935ccfd",
   "metadata": {},
   "outputs": [],
   "source": [
    "class Line:\n",
    "    def __init__(self, a, *b, **arg):\n",
    "        self.data = [a] + [i for i in b]\n",
    "        try:\n",
    "            self.closed = arg[\"closed\"]\n",
    "        except KeyError:\n",
    "            self.closed = True\n",
    "\n",
    "    def __iter__(self):\n",
    "        return iter(self.data)\n",
    "\n",
    "    def __repr__(self):\n",
    "        print(f\"{list(self)} closed:{self.closed}\")"
   ]
  },
  {
   "cell_type": "code",
   "execution_count": 32,
   "id": "ffec10ac-0d47-472f-a5a0-82cb51136075",
   "metadata": {},
   "outputs": [
    {
     "name": "stdout",
     "output_type": "stream",
     "text": [
      "[[0.0, 0.0, 0.0], [50.8, 0.0, 0.0], [50.8, 25.4, 0.0], [0.0, 25.4, 0.0]] closed:True\n"
     ]
    },
    {
     "ename": "TypeError",
     "evalue": "__str__ returned non-string (type NoneType)",
     "output_type": "error",
     "traceback": [
      "\u001b[0;31m---------------------------------------------------------------------------\u001b[0m",
      "\u001b[0;31mTypeError\u001b[0m                                 Traceback (most recent call last)",
      "Cell \u001b[0;32mIn[32], line 1\u001b[0m\n\u001b[0;32m----> 1\u001b[0m \u001b[38;5;28;43mprint\u001b[39;49m\u001b[43m(\u001b[49m\u001b[43mLine\u001b[49m\u001b[43m(\u001b[49m\u001b[43mPoint\u001b[49m\u001b[43m(\u001b[49m\u001b[38;5;241;43m0\u001b[39;49m\u001b[43m,\u001b[49m\u001b[38;5;241;43m0\u001b[39;49m\u001b[43m)\u001b[49m\u001b[43m,\u001b[49m\u001b[43mPoint\u001b[49m\u001b[43m(\u001b[49m\u001b[38;5;241;43m2\u001b[39;49m\u001b[43m,\u001b[49m\u001b[38;5;241;43m0\u001b[39;49m\u001b[43m)\u001b[49m\u001b[43m,\u001b[49m\u001b[43mPoint\u001b[49m\u001b[43m(\u001b[49m\u001b[38;5;241;43m2\u001b[39;49m\u001b[43m,\u001b[49m\u001b[38;5;241;43m1\u001b[39;49m\u001b[43m)\u001b[49m\u001b[43m,\u001b[49m\u001b[43mPoint\u001b[49m\u001b[43m(\u001b[49m\u001b[38;5;241;43m0\u001b[39;49m\u001b[43m,\u001b[49m\u001b[38;5;241;43m1\u001b[39;49m\u001b[43m)\u001b[49m\u001b[43m)\u001b[49m\u001b[43m)\u001b[49m\n",
      "\u001b[0;31mTypeError\u001b[0m: __str__ returned non-string (type NoneType)"
     ]
    }
   ],
   "source": [
    "print(Line(Point(0,0),Point(2,0),Point(2,1),Point(0,1)))"
   ]
  },
  {
   "cell_type": "code",
   "execution_count": null,
   "id": "d453db65-b0d7-477a-9a95-156398edb640",
   "metadata": {},
   "outputs": [],
   "source": []
  }
 ],
 "metadata": {
  "kernelspec": {
   "display_name": "Python 3 (ipykernel)",
   "language": "python",
   "name": "python3"
  },
  "language_info": {
   "codemirror_mode": {
    "name": "ipython",
    "version": 3
   },
   "file_extension": ".py",
   "mimetype": "text/x-python",
   "name": "python",
   "nbconvert_exporter": "python",
   "pygments_lexer": "ipython3",
   "version": "3.11.2"
  }
 },
 "nbformat": 4,
 "nbformat_minor": 5
}
