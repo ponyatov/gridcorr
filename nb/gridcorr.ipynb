{
 "cells": [
  {
   "cell_type": "code",
   "execution_count": 440,
   "id": "aa9f164e-17ee-4449-bddf-041f7987f2ad",
   "metadata": {},
   "outputs": [],
   "source": [
    "class Point:\n",
    "    def __getitem__(self,idx): return self.data[idx]\n",
    "    def __array__(self): return np.array(self.data)"
   ]
  },
  {
   "cell_type": "code",
   "execution_count": 430,
   "id": "3e06d671-18a3-4cc5-a48b-f630b114e459",
   "metadata": {},
   "outputs": [],
   "source": [
    "class Line:\n",
    "    def __iter__(self):\n",
    "        t = [self.data[0]] if self.closed else []\n",
    "        return iter(self.data + t)\n",
    "    def __array__(self):\n",
    "        return np.array([np.array(i) for i in self])"
   ]
  },
  {
   "cell_type": "code",
   "execution_count": 431,
   "id": "8fa5758f-5461-4979-9aaa-ca3f3552dba8",
   "metadata": {},
   "outputs": [
    {
     "data": {
      "text/plain": [
       "array([[ 0. ,  0. ,  0. ],\n",
       "       [50.8,  0. ,  0. ],\n",
       "       [50.8, 25.4,  0. ],\n",
       "       [ 0. , 25.4,  0. ],\n",
       "       [ 0. ,  0. ,  0. ]])"
      ]
     },
     "execution_count": 431,
     "metadata": {},
     "output_type": "execute_result"
    }
   ],
   "source": [
    "board = Line(Point(0,0),Point(2,0),Point(2,1),Point(0,1),closed=True); np.array(board)"
   ]
  },
  {
   "cell_type": "code",
   "execution_count": 432,
   "id": "3e7a6959-6c32-405e-b32e-7b66afc33916",
   "metadata": {},
   "outputs": [],
   "source": [
    "corrZ = [-1,-3,+1,+3]"
   ]
  },
  {
   "cell_type": "code",
   "execution_count": 433,
   "id": "83136909-a75f-49a0-9653-63fe60c012c0",
   "metadata": {},
   "outputs": [],
   "source": [
    "import k3d"
   ]
  },
  {
   "cell_type": "code",
   "execution_count": 434,
   "id": "ff183f4e-4e1a-4e74-ac82-898f3df711a4",
   "metadata": {},
   "outputs": [
    {
     "name": "stdout",
     "output_type": "stream",
     "text": [
      "[[0.0, 0.0, -1.0], [50.8, 0.0, -3.0], [50.8, 25.4, 1.0], [0.0, 25.4, 3.0]]\n"
     ]
    }
   ],
   "source": [
    "scan = []\n",
    "for b,cz in zip(board,corrZ): scan += [[b[0],b[1],b[2]+cz]]\n",
    "print(scan)"
   ]
  },
  {
   "cell_type": "code",
   "execution_count": 435,
   "id": "3db5381f-670d-4aa3-98c1-a255695c8d5e",
   "metadata": {},
   "outputs": [],
   "source": [
    "plot = k3d.plot(height=300,menu_visibility=False,background_color=0x222222,grid_color=0x224444,camera_mode='orbit')"
   ]
  },
  {
   "cell_type": "code",
   "execution_count": 436,
   "id": "d9376447-8655-4690-a683-14477717824b",
   "metadata": {},
   "outputs": [],
   "source": [
    "plot += k3d.line(np.array(board),color=0x0000FF,width=.3)\n",
    "plot += k3d.points(scan,color=0xAA0000)"
   ]
  },
  {
   "cell_type": "code",
   "execution_count": 437,
   "id": "63e85244-8ee3-449f-88b9-45640d1ef051",
   "metadata": {},
   "outputs": [
    {
     "data": {
      "application/vnd.jupyter.widget-view+json": {
       "model_id": "5aef179204ff4ff89d999331a92d793b",
       "version_major": 2,
       "version_minor": 0
      },
      "text/plain": [
       "Output()"
      ]
     },
     "metadata": {},
     "output_type": "display_data"
    }
   ],
   "source": [
    "plot.display()"
   ]
  },
  {
   "cell_type": "code",
   "execution_count": null,
   "id": "66c80a19-fdb5-4d04-b41a-3feb543a306b",
   "metadata": {},
   "outputs": [],
   "source": []
  }
 ],
 "metadata": {
  "kernelspec": {
   "display_name": "Python 3 (ipykernel)",
   "language": "python",
   "name": "python3"
  },
  "language_info": {
   "codemirror_mode": {
    "name": "ipython",
    "version": 3
   },
   "file_extension": ".py",
   "mimetype": "text/x-python",
   "name": "python",
   "nbconvert_exporter": "python",
   "pygments_lexer": "ipython3",
   "version": "3.11.2"
  }
 },
 "nbformat": 4,
 "nbformat_minor": 5
}
