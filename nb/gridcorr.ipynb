{
 "cells": [
  {
   "cell_type": "code",
   "execution_count": 15,
   "id": "83136909-a75f-49a0-9653-63fe60c012c0",
   "metadata": {},
   "outputs": [],
   "source": [
    "import k3d"
   ]
  },
  {
   "cell_type": "code",
   "execution_count": 16,
   "id": "07974e30-50ce-4f86-851a-4d4a3b00467d",
   "metadata": {},
   "outputs": [],
   "source": [
    "inch = 25.4 # mm"
   ]
  },
  {
   "cell_type": "code",
   "execution_count": null,
   "id": "a0a735af-fb1c-49f3-89bd-39b485532386",
   "metadata": {},
   "outputs": [],
   "source": [
    "board = [[0,0,0],[2*inch,0,0],[2*inch,1*inch,0],[0,1*inch,0]]"
   ]
  },
  {
   "cell_type": "code",
   "execution_count": 89,
   "id": "3e7a6959-6c32-405e-b32e-7b66afc33916",
   "metadata": {},
   "outputs": [],
   "source": [
    "corrZ = [-1,-3,+1,+3]"
   ]
  },
  {
   "cell_type": "code",
   "execution_count": 90,
   "id": "ff183f4e-4e1a-4e74-ac82-898f3df711a4",
   "metadata": {},
   "outputs": [],
   "source": [
    "scan = []\n",
    "for b,cz in zip(board,corrZ): scan += [[b[0],b[1],b[2]+cz]]"
   ]
  },
  {
   "cell_type": "code",
   "execution_count": 121,
   "id": "3db5381f-670d-4aa3-98c1-a255695c8d5e",
   "metadata": {},
   "outputs": [],
   "source": [
    "plot = k3d.plot(height=300,menu_visibility=False,background_color=0x222222,grid_color=0x224444,camera_mode='orbit')"
   ]
  },
  {
   "cell_type": "code",
   "execution_count": 122,
   "id": "d9376447-8655-4690-a683-14477717824b",
   "metadata": {},
   "outputs": [],
   "source": [
    "plot += k3d.line(board+[board[0]],color=0x0000FF)\n",
    "plot += k3d.points(scan,color=0xAA0000)"
   ]
  },
  {
   "cell_type": "code",
   "execution_count": 124,
   "id": "63e85244-8ee3-449f-88b9-45640d1ef051",
   "metadata": {},
   "outputs": [
    {
     "data": {
      "application/vnd.jupyter.widget-view+json": {
       "model_id": "5224aebc675e4fd197922c6302578de3",
       "version_major": 2,
       "version_minor": 0
      },
      "text/plain": [
       "Output()"
      ]
     },
     "metadata": {},
     "output_type": "display_data"
    }
   ],
   "source": [
    "plot.display()"
   ]
  },
  {
   "cell_type": "code",
   "execution_count": null,
   "id": "66c80a19-fdb5-4d04-b41a-3feb543a306b",
   "metadata": {},
   "outputs": [],
   "source": []
  }
 ],
 "metadata": {
  "kernelspec": {
   "display_name": "Python 3 (ipykernel)",
   "language": "python",
   "name": "python3"
  },
  "language_info": {
   "codemirror_mode": {
    "name": "ipython",
    "version": 3
   },
   "file_extension": ".py",
   "mimetype": "text/x-python",
   "name": "python",
   "nbconvert_exporter": "python",
   "pygments_lexer": "ipython3",
   "version": "3.11.2"
  }
 },
 "nbformat": 4,
 "nbformat_minor": 5
}
