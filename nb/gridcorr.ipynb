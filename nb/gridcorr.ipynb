{
 "cells": [
  {
   "cell_type": "code",
   "execution_count": 262,
   "id": "e5bf8a5d-3da5-4cad-8d45-f0eac27fbab6",
   "metadata": {},
   "outputs": [],
   "source": [
    "inch = 25.4 # mm"
   ]
  },
  {
   "cell_type": "code",
   "execution_count": 263,
   "id": "aa9f164e-17ee-4449-bddf-041f7987f2ad",
   "metadata": {},
   "outputs": [],
   "source": [
    "class Point:\n",
    "    def __init__(self,x,y,z=0):\n",
    "        self.data=[float(x)*inch, float(y)*inch, float(z)*inch]\n",
    "    def __repr__(self): return f'{self.data}'"
   ]
  },
  {
   "cell_type": "code",
   "execution_count": 264,
   "id": "d7399f6a-2198-4ca7-a8fb-eb74a27a7e7a",
   "metadata": {},
   "outputs": [
    {
     "data": {
      "text/plain": [
       "[0.0, 0.0, 0.0]"
      ]
     },
     "execution_count": 264,
     "metadata": {},
     "output_type": "execute_result"
    }
   ],
   "source": [
    "Point(0,0)"
   ]
  },
  {
   "cell_type": "code",
   "execution_count": 292,
   "id": "3e06d671-18a3-4cc5-a48b-f630b114e459",
   "metadata": {},
   "outputs": [],
   "source": [
    "class Line:\n",
    "    closed = False\n",
    "    def __init__(self,a,*b,**arg):\n",
    "        self.data=[a]+[i for i in b]\n",
    "        if arg['closed']: self.closed = True\n",
    "    def __getitem__(self,idx): return self.data[idx].data\n",
    "    def __repr__(self): \n",
    "        ret = '['\n",
    "        ret += f'{self.data[0]}'\n",
    "        for i in self.data[1:-1]: ret += f', {i}'\n",
    "        ret += f', {self.data[-1]}'\n",
    "        if self.closed: ret += f', {self.data[0]}'\n",
    "        ret += ']'\n",
    "        return ret\n",
    "    def np(self):\n",
    "        return [i for i in self]"
   ]
  },
  {
   "cell_type": "code",
   "execution_count": 293,
   "id": "8fa5758f-5461-4979-9aaa-ca3f3552dba8",
   "metadata": {},
   "outputs": [
    {
     "data": {
      "text/plain": [
       "[[0.0, 0.0, 0.0], [50.8, 0.0, 0.0], [50.8, 25.4, 0.0], [0.0, 25.4, 0.0], [0.0, 0.0, 0.0]]"
      ]
     },
     "execution_count": 293,
     "metadata": {},
     "output_type": "execute_result"
    }
   ],
   "source": [
    "board = Line(Point(0,0),Point(2,0),Point(2,1),Point(0,1),closed=True); board"
   ]
  },
  {
   "cell_type": "code",
   "execution_count": 294,
   "id": "3e7a6959-6c32-405e-b32e-7b66afc33916",
   "metadata": {},
   "outputs": [],
   "source": [
    "corrZ = [-1,-3,+1,+3]"
   ]
  },
  {
   "cell_type": "code",
   "execution_count": 295,
   "id": "83136909-a75f-49a0-9653-63fe60c012c0",
   "metadata": {},
   "outputs": [],
   "source": [
    "import k3d"
   ]
  },
  {
   "cell_type": "code",
   "execution_count": 296,
   "id": "ff183f4e-4e1a-4e74-ac82-898f3df711a4",
   "metadata": {},
   "outputs": [],
   "source": [
    "scan = []\n",
    "for b,cz in zip(board,corrZ): scan += [b[0],b[1],b[2]+cz]"
   ]
  },
  {
   "cell_type": "code",
   "execution_count": null,
   "id": "3db5381f-670d-4aa3-98c1-a255695c8d5e",
   "metadata": {},
   "outputs": [],
   "source": [
    "plot = k3d.plot(height=300,menu_visibility=False,background_color=0x222222,grid_color=0x224444,camera_mode='orbit')"
   ]
  },
  {
   "cell_type": "code",
   "execution_count": null,
   "id": "d9376447-8655-4690-a683-14477717824b",
   "metadata": {},
   "outputs": [],
   "source": [
    "plot += k3d.line(board.np(),color=0x0000FF,width=.3)\n",
    "plot += k3d.points(scan,color=0xAA0000)"
   ]
  },
  {
   "cell_type": "code",
   "execution_count": 291,
   "id": "63e85244-8ee3-449f-88b9-45640d1ef051",
   "metadata": {},
   "outputs": [
    {
     "data": {
      "application/vnd.jupyter.widget-view+json": {
       "model_id": "1114b3c458a342039b8a6dfe38b2c466",
       "version_major": 2,
       "version_minor": 0
      },
      "text/plain": [
       "Output()"
      ]
     },
     "metadata": {},
     "output_type": "display_data"
    }
   ],
   "source": [
    "plot.display()"
   ]
  },
  {
   "cell_type": "code",
   "execution_count": null,
   "id": "66c80a19-fdb5-4d04-b41a-3feb543a306b",
   "metadata": {},
   "outputs": [],
   "source": []
  }
 ],
 "metadata": {
  "kernelspec": {
   "display_name": "Python 3 (ipykernel)",
   "language": "python",
   "name": "python3"
  },
  "language_info": {
   "codemirror_mode": {
    "name": "ipython",
    "version": 3
   },
   "file_extension": ".py",
   "mimetype": "text/x-python",
   "name": "python",
   "nbconvert_exporter": "python",
   "pygments_lexer": "ipython3",
   "version": "3.11.2"
  }
 },
 "nbformat": 4,
 "nbformat_minor": 5
}
