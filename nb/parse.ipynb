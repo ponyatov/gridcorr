{
 "cells": [
  {
   "cell_type": "code",
   "execution_count": 1,
   "id": "6989d6fa-2d71-40e0-a97a-3d9bfa8d4459",
   "metadata": {},
   "outputs": [],
   "source": [
    "import ply.lex as lex"
   ]
  },
  {
   "cell_type": "code",
   "execution_count": 2,
   "id": "4f2e93cd-dd08-4e08-8ea6-fdb8e47780ea",
   "metadata": {},
   "outputs": [],
   "source": [
    "tokens = ['EOL','PERC','COMMENT','INT','G','M','S','X','Y','Z','F']"
   ]
  },
  {
   "cell_type": "code",
   "execution_count": 3,
   "id": "70e90ce4-0e33-4a12-a5be-3c8833a3f2cb",
   "metadata": {},
   "outputs": [],
   "source": [
    "t_ignore = '[ \\t]+'"
   ]
  },
  {
   "cell_type": "code",
   "execution_count": 14,
   "id": "151d6440-a96e-419b-9804-f49c5057a67b",
   "metadata": {},
   "outputs": [],
   "source": [
    "def t_EOL(t):\n",
    "    r'\\r?\\n'\n",
    "    t.lineno += 1 ; return t"
   ]
  },
  {
   "cell_type": "code",
   "execution_count": 15,
   "id": "13c3c722-6f27-49a5-8da3-b7767652cde4",
   "metadata": {},
   "outputs": [],
   "source": [
    "t_PERC = '%'\n",
    "t_COMMENT = r'\\(.*?\\)'"
   ]
  },
  {
   "cell_type": "code",
   "execution_count": 16,
   "id": "047e7d87-ea43-431b-837e-da58554cdead",
   "metadata": {},
   "outputs": [],
   "source": [
    "t_G = 'G'\n",
    "t_M = 'M'\n",
    "t_S = 'S'\n",
    "t_X = 'X'\n",
    "t_Y = 'Y'\n",
    "t_Z = 'Z'\n",
    "t_F = 'F'"
   ]
  },
  {
   "cell_type": "code",
   "execution_count": 17,
   "id": "73131c23-d5c6-4c00-b955-32ac1df0c9f0",
   "metadata": {},
   "outputs": [],
   "source": [
    "def t_INT(t):\n",
    "    r'[0-9]+'\n",
    "    t.value = int(t.value) ; return t"
   ]
  },
  {
   "cell_type": "code",
   "execution_count": 18,
   "id": "ffb82dd2-9b81-44af-ac6e-83ba17c796ad",
   "metadata": {},
   "outputs": [],
   "source": [
    "def t_error(t): raise SyntaxError(t)"
   ]
  },
  {
   "cell_type": "code",
   "execution_count": 19,
   "id": "5ea9c173-e1ae-4a49-aa4a-6b3e281ac298",
   "metadata": {},
   "outputs": [],
   "source": [
    "__file__ = 'parse.ipynb'\n",
    "lexer = lex.lex()"
   ]
  },
  {
   "cell_type": "code",
   "execution_count": 20,
   "id": "a44e4b88-2c65-40d7-8c35-1060cdbfc374",
   "metadata": {},
   "outputs": [],
   "source": [
    "import ply.yacc as yacc"
   ]
  },
  {
   "cell_type": "code",
   "execution_count": 21,
   "id": "166975a0-1be7-491c-921c-742646e53a48",
   "metadata": {},
   "outputs": [],
   "source": [
    "with open('../pcb/1x2in/grb/1x2in.nc') as s:\n",
    "    grb = s.read()"
   ]
  },
  {
   "cell_type": "code",
   "execution_count": 22,
   "id": "c27eed19-22cf-4a74-a0a2-f02c09cd229e",
   "metadata": {},
   "outputs": [],
   "source": [
    "lexer.input(grb)"
   ]
  },
  {
   "cell_type": "code",
   "execution_count": 23,
   "id": "e458aa1d-f6d5-4eb4-9071-7a348d32d311",
   "metadata": {},
   "outputs": [
    {
     "name": "stdout",
     "output_type": "stream",
     "text": [
      "LexToken(PERC,'%',1,0)\n",
      "LexToken(EOL,'\\n',2,1)\n",
      "LexToken(COMMENT,'( CopperCAM / ISO Post-Processor )',1,2)\n",
      "LexToken(EOL,'\\n',2,36)\n",
      "LexToken(G,'G',1,37)\n",
      "LexToken(INT,17,1,38)\n",
      "LexToken(G,'G',1,41)\n",
      "LexToken(INT,21,1,42)\n",
      "LexToken(G,'G',1,45)\n",
      "LexToken(INT,40,1,46)\n",
      "LexToken(G,'G',1,49)\n",
      "LexToken(INT,80,1,50)\n",
      "LexToken(G,'G',1,53)\n",
      "LexToken(INT,90,1,54)\n",
      "LexToken(EOL,'\\n',2,56)\n",
      "LexToken(G,'G',1,57)\n",
      "LexToken(INT,54,1,58)\n",
      "LexToken(EOL,'\\n',2,60)\n",
      "LexToken(G,'G',1,61)\n",
      "LexToken(INT,0,1,62)\n",
      "LexToken(Z,'Z',1,64)\n",
      "LexToken(INT,22,1,65)\n"
     ]
    },
    {
     "ename": "SyntaxError",
     "evalue": "LexToken(error,'.2\\nG0 X0.0 Y0.0\\nG0 Z11.1\\n()\\n( M06T1 )\\nM03 S8888\\nG0 F55.5 Z2.22\\n F55.5 X-0.15 Y-0.15 \\n F55.5   Z1.11\\nG1 F44.4 Z-0.01\\n F100.0 X50.95  \\n   Y25.55 \\n  X-0.15  \\n   Y-0.15 \\nG0 F55.5 Z22.22\\nM05\\n()\\nG53 Z0.\\nG0 X0. Y55.\\nM30\\n%\\n',1,67) (<string>)",
     "output_type": "error",
     "traceback": [
      "Traceback \u001b[0;36m(most recent call last)\u001b[0m:\n",
      "\u001b[0m  File \u001b[1;32m~/gridcorr/lib/python3.11/site-packages/IPython/core/interactiveshell.py:3577\u001b[0m in \u001b[1;35mrun_code\u001b[0m\n    exec(code_obj, self.user_global_ns, self.user_ns)\u001b[0m\n",
      "\u001b[0m  Cell \u001b[1;32mIn[23], line 2\u001b[0m\n    token = lexer.token()\u001b[0m\n",
      "\u001b[0m  File \u001b[1;32m~/gridcorr/lib/python3.11/site-packages/ply/lex.py:386\u001b[0m in \u001b[1;35mtoken\u001b[0m\n    newtok = self.lexerrorf(tok)\u001b[0m\n",
      "\u001b[0;36m  Cell \u001b[0;32mIn[18], line 1\u001b[0;36m in \u001b[0;35mt_error\u001b[0;36m\n\u001b[0;31m    def t_error(t): raise SyntaxError(t)\u001b[0;36m\n",
      "\u001b[0;36m  File \u001b[0;32m<string>\u001b[0;36m\u001b[0m\n\u001b[0;31mSyntaxError\u001b[0m\u001b[0;31m:\u001b[0m LexToken(error,'.2\\nG0 X0.0 Y0.0\\nG0 Z11.1\\n()\\n( M06T1 )\\nM03 S8888\\nG0 F55.5 Z2.22\\n F55.5 X-0.15 Y-0.15 \\n F55.5   Z1.11\\nG1 F44.4 Z-0.01\\n F100.0 X50.95  \\n   Y25.55 \\n  X-0.15  \\n   Y-0.15 \\nG0 F55.5 Z22.22\\nM05\\n()\\nG53 Z0.\\nG0 X0. Y55.\\nM30\\n%\\n',1,67)\n"
     ]
    }
   ],
   "source": [
    "while True:\n",
    "    token = lexer.token()\n",
    "    if not token: break\n",
    "    print(token)"
   ]
  },
  {
   "cell_type": "code",
   "execution_count": null,
   "id": "a95752c1-8fec-4378-90b7-d652095ca625",
   "metadata": {},
   "outputs": [],
   "source": []
  }
 ],
 "metadata": {
  "kernelspec": {
   "display_name": "Python 3 (ipykernel)",
   "language": "python",
   "name": "python3"
  },
  "language_info": {
   "codemirror_mode": {
    "name": "ipython",
    "version": 3
   },
   "file_extension": ".py",
   "mimetype": "text/x-python",
   "name": "python",
   "nbconvert_exporter": "python",
   "pygments_lexer": "ipython3",
   "version": "3.11.2"
  }
 },
 "nbformat": 4,
 "nbformat_minor": 5
}
