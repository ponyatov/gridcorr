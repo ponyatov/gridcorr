{
 "cells": [
  {
   "cell_type": "markdown",
   "id": "90b9d419-220f-45b4-91d2-a5a7881d554a",
   "metadata": {},
   "source": [
    "OpenGL"
   ]
  },
  {
   "cell_type": "markdown",
   "id": "9138c0b8-0ade-40aa-b70c-3060c01dfab5",
   "metadata": {},
   "source": [
    "https://youtu.be/z_WWQYh6Ewg?si=ZtQQlDXltAoLUxKs"
   ]
  },
  {
   "cell_type": "code",
   "execution_count": 1,
   "id": "c8b92706-4712-4ce4-855d-f6398d965d7a",
   "metadata": {},
   "outputs": [],
   "source": [
    "import glfw"
   ]
  },
  {
   "cell_type": "code",
   "execution_count": 2,
   "id": "127e454a-d5b5-4fb0-891c-3096c5dcdb6e",
   "metadata": {},
   "outputs": [],
   "source": [
    "assert(glfw.init())"
   ]
  },
  {
   "cell_type": "code",
   "execution_count": null,
   "id": "c092d452-d2a3-49ff-92ed-e3273ef95dbc",
   "metadata": {},
   "outputs": [],
   "source": [
    "win = glfw.create_window(640, 480, \"Hello World\", None, None); assert(win)"
   ]
  },
  {
   "cell_type": "code",
   "execution_count": null,
   "id": "3d975815-3ac5-48d5-9acc-e0c2ec75a980",
   "metadata": {},
   "outputs": [],
   "source": [
    "# Make the window's context current\n",
    "glfw.make_context_current(win)"
   ]
  },
  {
   "cell_type": "code",
   "execution_count": null,
   "id": "48610848-c73a-4445-9c75-ae6ef7bfa374",
   "metadata": {},
   "outputs": [],
   "source": [
    "# Loop until the user closes the window\n",
    "while not glfw.window_should_close(window):\n",
    "    # Render here, e.g. using pyOpenGL\n",
    "\n",
    "    # Swap front and back buffers\n",
    "    glfw.swap_buffers(window)\n",
    "\n",
    "    # Poll for and process events\n",
    "    glfw.poll_events()"
   ]
  }
 ],
 "metadata": {
  "kernelspec": {
   "display_name": "Python 3 (ipykernel)",
   "language": "python",
   "name": "python3"
  },
  "language_info": {
   "codemirror_mode": {
    "name": "ipython",
    "version": 3
   },
   "file_extension": ".py",
   "mimetype": "text/x-python",
   "name": "python",
   "nbconvert_exporter": "python",
   "pygments_lexer": "ipython3",
   "version": "3.11.2"
  }
 },
 "nbformat": 4,
 "nbformat_minor": 5
}
