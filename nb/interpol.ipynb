{
 "cells": [
  {
   "cell_type": "markdown",
   "id": "e8d6578e-5a2e-4f17-aba1-c874a9408043",
   "metadata": {},
   "source": [
    "- https://ru.wikipedia.org/wiki/Билинейная_интерполяция"
   ]
  },
  {
   "cell_type": "code",
   "execution_count": null,
   "id": "0350cb7e-9e2a-4a02-9fbe-9de2db48f3cb",
   "metadata": {},
   "outputs": [],
   "source": []
  }
 ],
 "metadata": {
  "kernelspec": {
   "display_name": "Python 3 (ipykernel)",
   "language": "python",
   "name": "python3"
  },
  "language_info": {
   "codemirror_mode": {
    "name": "ipython",
    "version": 3
   },
   "file_extension": ".py",
   "mimetype": "text/x-python",
   "name": "python",
   "nbconvert_exporter": "python",
   "pygments_lexer": "ipython3",
   "version": "3.11.2"
  }
 },
 "nbformat": 4,
 "nbformat_minor": 5
}
