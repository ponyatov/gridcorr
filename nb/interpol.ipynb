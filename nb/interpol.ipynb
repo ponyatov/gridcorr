{
 "cells": [
  {
   "cell_type": "markdown",
   "id": "e8d6578e-5a2e-4f17-aba1-c874a9408043",
   "metadata": {},
   "source": [
    "- https://ru.wikipedia.org/wiki/Билинейная_интерполяция"
   ]
  },
  {
   "cell_type": "code",
   "execution_count": 5,
   "id": "0350cb7e-9e2a-4a02-9fbe-9de2db48f3cb",
   "metadata": {},
   "outputs": [],
   "source": [
    "class Point:\n",
    "    def __init__(self,x,y,z=0): self.dat = list(map(float,[x,y,z]))\n",
    "    def __repr__(self): return str(self.dat)"
   ]
  },
  {
   "cell_type": "code",
   "execution_count": 7,
   "id": "2338c8b0-6c72-48f5-b383-33a9b179e2f2",
   "metadata": {},
   "outputs": [
    {
     "name": "stdout",
     "output_type": "stream",
     "text": [
      "[1.0, 2.0, 3.0]\n"
     ]
    }
   ],
   "source": [
    "print (Point(1,2,3))"
   ]
  },
  {
   "cell_type": "code",
   "execution_count": 8,
   "id": "5c0a861e-9717-4fb9-81bc-804c468b0623",
   "metadata": {},
   "outputs": [],
   "source": [
    "class Line:\n",
    "    def __init__(self,a:Point,b:Point): self.a = a, self.b = b"
   ]
  },
  {
   "cell_type": "code",
   "execution_count": 9,
   "id": "422724e9-aedc-4148-b682-a11846f6e1ea",
   "metadata": {},
   "outputs": [
    {
     "ename": "TypeError",
     "evalue": "cannot unpack non-iterable Point object",
     "output_type": "error",
     "traceback": [
      "\u001b[0;31m---------------------------------------------------------------------------\u001b[0m",
      "\u001b[0;31mTypeError\u001b[0m                                 Traceback (most recent call last)",
      "Cell \u001b[0;32mIn[9], line 1\u001b[0m\n\u001b[0;32m----> 1\u001b[0m \u001b[38;5;28mprint\u001b[39m (\u001b[43mLine\u001b[49m\u001b[43m(\u001b[49m\u001b[43mPoint\u001b[49m\u001b[43m(\u001b[49m\u001b[38;5;241;43m1\u001b[39;49m\u001b[43m,\u001b[49m\u001b[38;5;241;43m2\u001b[39;49m\u001b[43m)\u001b[49m\u001b[43m,\u001b[49m\u001b[43mPoint\u001b[49m\u001b[43m(\u001b[49m\u001b[38;5;241;43m3\u001b[39;49m\u001b[43m,\u001b[49m\u001b[38;5;241;43m4\u001b[39;49m\u001b[43m)\u001b[49m\u001b[43m)\u001b[49m)\n",
      "Cell \u001b[0;32mIn[8], line 2\u001b[0m, in \u001b[0;36mLine.__init__\u001b[0;34m(self, a, b)\u001b[0m\n\u001b[1;32m      1\u001b[0m \u001b[38;5;28;01mclass\u001b[39;00m \u001b[38;5;21;01mLine\u001b[39;00m:\n\u001b[0;32m----> 2\u001b[0m     \u001b[38;5;28;01mdef\u001b[39;00m \u001b[38;5;21m__init__\u001b[39m(\u001b[38;5;28mself\u001b[39m,a:Point,b:Point): \u001b[38;5;28mself\u001b[39m\u001b[38;5;241m.\u001b[39ma \u001b[38;5;241m=\u001b[39m a, \u001b[38;5;28mself\u001b[39m\u001b[38;5;241m.\u001b[39mb \u001b[38;5;241m=\u001b[39m b\n",
      "\u001b[0;31mTypeError\u001b[0m: cannot unpack non-iterable Point object"
     ]
    }
   ],
   "source": [
    "print (Line(Point(1,2),Point(3,4)))"
   ]
  },
  {
   "cell_type": "code",
   "execution_count": null,
   "id": "904f094c-02ed-4e3b-8858-9ad5b4b42ebc",
   "metadata": {},
   "outputs": [],
   "source": []
  }
 ],
 "metadata": {
  "kernelspec": {
   "display_name": "Python 3 (ipykernel)",
   "language": "python",
   "name": "python3"
  },
  "language_info": {
   "codemirror_mode": {
    "name": "ipython",
    "version": 3
   },
   "file_extension": ".py",
   "mimetype": "text/x-python",
   "name": "python",
   "nbconvert_exporter": "python",
   "pygments_lexer": "ipython3",
   "version": "3.11.2"
  }
 },
 "nbformat": 4,
 "nbformat_minor": 5
}
