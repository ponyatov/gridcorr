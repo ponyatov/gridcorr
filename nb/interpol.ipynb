{
 "cells": [
  {
   "cell_type": "markdown",
   "id": "e8d6578e-5a2e-4f17-aba1-c874a9408043",
   "metadata": {},
   "source": [
    "- https://ru.wikipedia.org/wiki/Билинейная_интерполяция"
   ]
  },
  {
   "cell_type": "markdown",
   "id": "02fb4a96-833f-4c5d-95dd-701bd74cffb3",
   "metadata": {},
   "source": [
    "# geometry"
   ]
  },
  {
   "cell_type": "code",
   "execution_count": 45,
   "id": "8b86e965-8280-48f7-be8b-c5e60e2635b0",
   "metadata": {},
   "outputs": [],
   "source": [
    "import numpy as np"
   ]
  },
  {
   "cell_type": "code",
   "execution_count": 70,
   "id": "f75e6d22-709e-421c-aa20-0661a8ce323d",
   "metadata": {},
   "outputs": [],
   "source": [
    "class Geom:\n",
    "    def __repr__(self): return f'{np.array(self)}'"
   ]
  },
  {
   "cell_type": "code",
   "execution_count": 71,
   "id": "88695139-4c4a-440f-96f2-4f3c4b173446",
   "metadata": {},
   "outputs": [
    {
     "name": "stdout",
     "output_type": "stream",
     "text": [
      "[0 0 0]\n"
     ]
    }
   ],
   "source": [
    "class Point(Geom):\n",
    "    def __init__(self,x,y,z=0): self.coord = [x,y,z]\n",
    "    def __array__(self): return np.array(self.coord)\n",
    "\n",
    "print(Point(0,0))"
   ]
  },
  {
   "cell_type": "code",
   "execution_count": 86,
   "id": "d94c5896-e48d-4720-a556-3cec0cdef1af",
   "metadata": {},
   "outputs": [],
   "source": [
    "class Line(Geom):\n",
    "    def __init__(self,*points,**args):\n",
    "        self.points = list(points)\n",
    "        try: args.closed = self['closed']\n",
    "        except AttributeError: self.closed = True\n",
    "    def __getitem__(self,idx):\n",
    "        return self.data[idx]\n",
    "    def __iter__(self):\n",
    "        t = [self.points[0]] if self.closed else []\n",
    "        return iter(self.points+t)\n",
    "    def __array__(self):\n",
    "        return np.array([np.array(i) for i in self])"
   ]
  },
  {
   "cell_type": "code",
   "execution_count": 87,
   "id": "8120e3cf-2de8-45d0-99c7-9ad4c2c6853f",
   "metadata": {},
   "outputs": [
    {
     "name": "stdout",
     "output_type": "stream",
     "text": [
      "[[0 0 0]\n",
      " [2 0 0]\n",
      " [2 1 0]\n",
      " [0 1 0]\n",
      " [0 0 0]]\n"
     ]
    }
   ],
   "source": [
    "board = Line(Point(0,0),Point(2,0),Point(2,1),Point(0,1),closed=True)\n",
    "print(board)\n",
    "# np.array(board)"
   ]
  },
  {
   "cell_type": "markdown",
   "id": "2ecc91c6-83a1-4053-94e2-99b64a6ca1da",
   "metadata": {},
   "source": [
    "# plot"
   ]
  },
  {
   "cell_type": "code",
   "execution_count": 37,
   "id": "d00e430b-a275-40b6-9d3f-9c96c689122a",
   "metadata": {},
   "outputs": [],
   "source": [
    "import k3d, numpy"
   ]
  },
  {
   "cell_type": "code",
   "execution_count": 38,
   "id": "c5e05485-a111-4384-9f01-73ed184e84b3",
   "metadata": {},
   "outputs": [],
   "source": [
    "plot = k3d.plot(height=300,menu_visibility=False,background_color=0x222222,grid_color=0x224444,camera_mode='orbit')"
   ]
  },
  {
   "cell_type": "code",
   "execution_count": 39,
   "id": "60d9d0fa-afd1-4a02-a07f-ff7e885c314a",
   "metadata": {},
   "outputs": [
    {
     "ename": "TypeError",
     "evalue": "array() missing required argument 'object' (pos 0)",
     "output_type": "error",
     "traceback": [
      "\u001b[0;31m---------------------------------------------------------------------------\u001b[0m",
      "\u001b[0;31mTypeError\u001b[0m                                 Traceback (most recent call last)",
      "Cell \u001b[0;32mIn[39], line 1\u001b[0m\n\u001b[0;32m----> 1\u001b[0m plot \u001b[38;5;241m+\u001b[39m\u001b[38;5;241m=\u001b[39m k3d\u001b[38;5;241m.\u001b[39mline(\u001b[43mnp\u001b[49m\u001b[38;5;241;43m.\u001b[39;49m\u001b[43marray\u001b[49m\u001b[43m(\u001b[49m\u001b[43mboard\u001b[49m\u001b[43m)\u001b[49m,color\u001b[38;5;241m=\u001b[39m\u001b[38;5;241m0x0000FF\u001b[39m,width\u001b[38;5;241m=\u001b[39m\u001b[38;5;241m.3\u001b[39m)\n",
      "Cell \u001b[0;32mIn[35], line 7\u001b[0m, in \u001b[0;36mLine.__array__\u001b[0;34m(self)\u001b[0m\n\u001b[1;32m      6\u001b[0m \u001b[38;5;28;01mdef\u001b[39;00m \u001b[38;5;21m__array__\u001b[39m(\u001b[38;5;28mself\u001b[39m):\n\u001b[0;32m----> 7\u001b[0m     \u001b[38;5;28;01mreturn\u001b[39;00m \u001b[43mnp\u001b[49m\u001b[38;5;241;43m.\u001b[39;49m\u001b[43marray\u001b[49m\u001b[43m(\u001b[49m\u001b[43m)\u001b[49m\n",
      "\u001b[0;31mTypeError\u001b[0m: array() missing required argument 'object' (pos 0)"
     ]
    }
   ],
   "source": [
    "plot += k3d.line(np.array(board),color=0x0000FF,width=.3)"
   ]
  },
  {
   "cell_type": "code",
   "execution_count": 30,
   "id": "8a53e8ce-5610-4b25-8487-af8df59d7051",
   "metadata": {},
   "outputs": [
    {
     "data": {
      "application/vnd.jupyter.widget-view+json": {
       "model_id": "ca30c774465d468ab15d29cbb7b93072",
       "version_major": 2,
       "version_minor": 0
      },
      "text/plain": [
       "Output()"
      ]
     },
     "metadata": {},
     "output_type": "display_data"
    }
   ],
   "source": [
    "plot.display()"
   ]
  },
  {
   "cell_type": "code",
   "execution_count": null,
   "id": "b1436ee5-9bed-445e-b6db-e041bdd31a11",
   "metadata": {},
   "outputs": [],
   "source": []
  }
 ],
 "metadata": {
  "kernelspec": {
   "display_name": "Python 3 (ipykernel)",
   "language": "python",
   "name": "python3"
  },
  "language_info": {
   "codemirror_mode": {
    "name": "ipython",
    "version": 3
   },
   "file_extension": ".py",
   "mimetype": "text/x-python",
   "name": "python",
   "nbconvert_exporter": "python",
   "pygments_lexer": "ipython3",
   "version": "3.11.2"
  }
 },
 "nbformat": 4,
 "nbformat_minor": 5
}
