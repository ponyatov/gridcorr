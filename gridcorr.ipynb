{
 "cells": [
  {
   "cell_type": "code",
   "execution_count": null,
   "id": "83136909-a75f-49a0-9653-63fe60c012c0",
   "metadata": {},
   "outputs": [],
   "source": [
    "import k3d"
   ]
  },
  {
   "cell_type": "code",
   "execution_count": 7,
   "id": "6832be51-bb69-410a-b3b1-2d8f7e67a478",
   "metadata": {},
   "outputs": [],
   "source": [
    "inch = 25.4 # mm"
   ]
  },
  {
   "cell_type": "code",
   "execution_count": 18,
   "id": "3db5381f-670d-4aa3-98c1-a255695c8d5e",
   "metadata": {},
   "outputs": [],
   "source": [
    "plot = k3d.plot()"
   ]
  },
  {
   "cell_type": "code",
   "execution_count": 20,
   "id": "43cea828-50c7-44e7-be0c-71bb8939e41e",
   "metadata": {},
   "outputs": [
    {
     "data": {
      "application/vnd.jupyter.widget-view+json": {
       "model_id": "f7d32ef89be14f7a944281e1aaafa5dc",
       "version_major": 2,
       "version_minor": 0
      },
      "text/plain": [
       "Output()"
      ]
     },
     "metadata": {},
     "output_type": "display_data"
    }
   ],
   "source": [
    "plot.display()"
   ]
  },
  {
   "cell_type": "code",
   "execution_count": 19,
   "id": "d9376447-8655-4690-a683-14477717824b",
   "metadata": {},
   "outputs": [],
   "source": [
    "plot += k3d.line([[0,0,0],[2*inch,0,0],[2*inch,1*inch,0],[0,1*inch,0],[0,0,0]])"
   ]
  },
  {
   "cell_type": "code",
   "execution_count": null,
   "id": "63e85244-8ee3-449f-88b9-45640d1ef051",
   "metadata": {},
   "outputs": [],
   "source": []
  }
 ],
 "metadata": {
  "kernelspec": {
   "display_name": "Python 3 (ipykernel)",
   "language": "python",
   "name": "python3"
  },
  "language_info": {
   "codemirror_mode": {
    "name": "ipython",
    "version": 3
   },
   "file_extension": ".py",
   "mimetype": "text/x-python",
   "name": "python",
   "nbconvert_exporter": "python",
   "pygments_lexer": "ipython3",
   "version": "3.11.2"
  }
 },
 "nbformat": 4,
 "nbformat_minor": 5
}
